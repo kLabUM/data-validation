{
 "cells": [
  {
   "cell_type": "code",
   "execution_count": 1,
   "id": "079c96eb",
   "metadata": {},
   "outputs": [],
   "source": [
    "import numpy as np\n",
    "import pandas as pd\n",
    "from utils import take_derivative, import_data, unit_scale, remove_outliers, cut_ends\n",
    "from models.data_validation import ReportErrors\n",
    "import matplotlib.pyplot as plt\n",
    "\n",
    "from sklearn.pipeline import make_pipeline\n",
    "from sklearn.preprocessing import StandardScaler, MinMaxScaler\n",
    "from sklearn.model_selection import cross_val_predict, GridSearchCV\n",
    "from sklearn.svm import SVC\n",
    "from sklearn.neighbors import KNeighborsClassifier\n",
    "from sklearn.ensemble import AdaBoostClassifier\n",
    "from sklearn.gaussian_process import GaussianProcessClassifier\n",
    "from sklearn.gaussian_process.kernels import RBF, Matern, RationalQuadratic\n",
    "from sklearn.neural_network import MLPClassifier\n",
    "from sklearn.metrics import ConfusionMatrixDisplay\n",
    "\n",
    "import warnings\n",
    "warnings.filterwarnings('ignore')"
   ]
  },
  {
   "cell_type": "markdown",
   "id": "e9812923",
   "metadata": {},
   "source": [
    "## Read in metadata table and flag time series with obvious data faults"
   ]
  },
  {
   "cell_type": "code",
   "execution_count": 2,
   "id": "fb7f02da",
   "metadata": {},
   "outputs": [],
   "source": [
    "metadata = pd.read_csv(\"data/metadata.csv\")"
   ]
  },
  {
   "cell_type": "code",
   "execution_count": 3,
   "id": "e39f91fb",
   "metadata": {},
   "outputs": [
    {
     "data": {
      "text/html": [
       "<div>\n",
       "<style scoped>\n",
       "    .dataframe tbody tr th:only-of-type {\n",
       "        vertical-align: middle;\n",
       "    }\n",
       "\n",
       "    .dataframe tbody tr th {\n",
       "        vertical-align: top;\n",
       "    }\n",
       "\n",
       "    .dataframe thead th {\n",
       "        text-align: right;\n",
       "    }\n",
       "</style>\n",
       "<table border=\"1\" class=\"dataframe\">\n",
       "  <thead>\n",
       "    <tr style=\"text-align: right;\">\n",
       "      <th></th>\n",
       "      <th>Node ID</th>\n",
       "      <th>Site ID</th>\n",
       "      <th>Project</th>\n",
       "      <th>Site type</th>\n",
       "      <th>Mount Type</th>\n",
       "      <th>Offset (mm)</th>\n",
       "      <th>Dam nearby</th>\n",
       "      <th>Clean</th>\n",
       "      <th>Low Var Obst</th>\n",
       "      <th>High Var Obst</th>\n",
       "      <th>Indeterminate</th>\n",
       "      <th>Outliers</th>\n",
       "      <th>Unnamed: 12</th>\n",
       "    </tr>\n",
       "  </thead>\n",
       "  <tbody>\n",
       "    <tr>\n",
       "      <th>0</th>\n",
       "      <td>001A</td>\n",
       "      <td>ARB025</td>\n",
       "      <td>ARB</td>\n",
       "      <td>River</td>\n",
       "      <td>Bridge - S</td>\n",
       "      <td>4905.50</td>\n",
       "      <td>0</td>\n",
       "      <td>0</td>\n",
       "      <td>1</td>\n",
       "      <td>0</td>\n",
       "      <td>0</td>\n",
       "      <td>0</td>\n",
       "      <td>1</td>\n",
       "    </tr>\n",
       "    <tr>\n",
       "      <th>1</th>\n",
       "      <td>001A</td>\n",
       "      <td>MDOT11328</td>\n",
       "      <td>MDO</td>\n",
       "      <td>River</td>\n",
       "      <td>Bridge - D</td>\n",
       "      <td>9448.80</td>\n",
       "      <td>0</td>\n",
       "      <td>0</td>\n",
       "      <td>1</td>\n",
       "      <td>0</td>\n",
       "      <td>0</td>\n",
       "      <td>0</td>\n",
       "      <td>1</td>\n",
       "    </tr>\n",
       "    <tr>\n",
       "      <th>2</th>\n",
       "      <td>001A</td>\n",
       "      <td>PTK014</td>\n",
       "      <td>PTK</td>\n",
       "      <td>Stream</td>\n",
       "      <td>Post</td>\n",
       "      <td>1841.50</td>\n",
       "      <td>0</td>\n",
       "      <td>0</td>\n",
       "      <td>1</td>\n",
       "      <td>0</td>\n",
       "      <td>1</td>\n",
       "      <td>0</td>\n",
       "      <td>1</td>\n",
       "    </tr>\n",
       "    <tr>\n",
       "      <th>3</th>\n",
       "      <td>003A</td>\n",
       "      <td>ARB017</td>\n",
       "      <td>ARB</td>\n",
       "      <td>Stream</td>\n",
       "      <td>Post</td>\n",
       "      <td>1517.65</td>\n",
       "      <td>0</td>\n",
       "      <td>0</td>\n",
       "      <td>1</td>\n",
       "      <td>0</td>\n",
       "      <td>1</td>\n",
       "      <td>0</td>\n",
       "      <td>1</td>\n",
       "    </tr>\n",
       "    <tr>\n",
       "      <th>4</th>\n",
       "      <td>004A</td>\n",
       "      <td>MDOT335</td>\n",
       "      <td>MDO</td>\n",
       "      <td>Lake</td>\n",
       "      <td>Bridge - S</td>\n",
       "      <td>2476.50</td>\n",
       "      <td>0</td>\n",
       "      <td>1</td>\n",
       "      <td>0</td>\n",
       "      <td>0</td>\n",
       "      <td>0</td>\n",
       "      <td>0</td>\n",
       "      <td>1</td>\n",
       "    </tr>\n",
       "  </tbody>\n",
       "</table>\n",
       "</div>"
      ],
      "text/plain": [
       "  Node ID    Site ID Project Site type  Mount Type  Offset (mm)  Dam nearby  \\\n",
       "0    001A     ARB025     ARB     River  Bridge - S      4905.50           0   \n",
       "1    001A  MDOT11328     MDO     River  Bridge - D      9448.80           0   \n",
       "2    001A     PTK014     PTK    Stream        Post      1841.50           0   \n",
       "3    003A     ARB017     ARB    Stream        Post      1517.65           0   \n",
       "4    004A    MDOT335     MDO      Lake  Bridge - S      2476.50           0   \n",
       "\n",
       "   Clean  Low Var Obst  High Var Obst  Indeterminate  Outliers  Unnamed: 12  \n",
       "0      0             1              0              0         0            1  \n",
       "1      0             1              0              0         0            1  \n",
       "2      0             1              0              1         0            1  \n",
       "3      0             1              0              1         0            1  \n",
       "4      1             0              0              0         0            1  "
      ]
     },
     "execution_count": 3,
     "metadata": {},
     "output_type": "execute_result"
    }
   ],
   "source": [
    "metadata.head()"
   ]
  },
  {
   "cell_type": "code",
   "execution_count": 4,
   "id": "0082c0fa",
   "metadata": {},
   "outputs": [
    {
     "name": "stdout",
     "output_type": "stream",
     "text": [
      "clean sites:  80\n",
      "Low var obst:  35\n",
      "High var obst:  44\n",
      "Total sites:  159\n"
     ]
    }
   ],
   "source": [
    "print(\"clean sites: \", len(metadata[metadata['Clean']==1]))\n",
    "print(\"Low var obst: \", len(metadata[metadata['Low Var Obst']==1]))\n",
    "print(\"High var obst: \", len(metadata[metadata['High Var Obst']==1]))\n",
    "print(\"Total sites: \", len(metadata))"
   ]
  },
  {
   "cell_type": "code",
   "execution_count": 5,
   "id": "c6ddbb38",
   "metadata": {},
   "outputs": [
    {
     "name": "stdout",
     "output_type": "stream",
     "text": [
      "Negative flags:  18\n",
      "Saturation flags:  20\n",
      "Underlier flags:  9\n",
      "Test Set:  121\n"
     ]
    }
   ],
   "source": [
    "flags = []\n",
    "for i in range(len(metadata)):\n",
    "    df = import_data(index = i)\n",
    "    offset = metadata.iloc[i]['Offset (mm)']\n",
    "    df, neg_flag, sat_flag = ReportErrors.detect_out_of_range(df, offset)\n",
    "    df, und_flag = ReportErrors.detect_underliers(df)\n",
    "    flags.append({'neg_flag':neg_flag, \"sat_flag\":sat_flag, \"und_flag\":und_flag})\n",
    "    \n",
    "metadata_mod = metadata.join(pd.DataFrame(flags), how=\"outer\")\n",
    "print(\"Negative flags: \", len(metadata_mod[metadata_mod[\"neg_flag\"]==1]))\n",
    "print(\"Saturation flags: \", len(metadata_mod[metadata_mod[\"sat_flag\"]==1]))\n",
    "print(\"Underlier flags: \", len(metadata_mod[metadata_mod[\"und_flag\"]==1]))\n",
    "tmp = metadata_mod[metadata_mod[\"neg_flag\"]==0]\n",
    "tmp = tmp[tmp[\"sat_flag\"]==0]\n",
    "tmp = tmp[tmp[\"und_flag\"]==0]\n",
    "print(\"Test Set: \",len(tmp))\n",
    "test_set = tmp\n",
    "\n",
    "clean = test_set[test_set['Clean']==1]\n",
    "obst = test_set[test_set['Clean']==0]"
   ]
  },
  {
   "cell_type": "markdown",
   "id": "b1bfd679",
   "metadata": {},
   "source": [
    "## Classification on $\\hat{X}=x(t)$ Dataset\n",
    "\n",
    "We start by looking at binary classification on the 1 dimensional time series data. The derivative is not passed in as a feature. "
   ]
  },
  {
   "cell_type": "code",
   "execution_count": 6,
   "id": "0127aa2f",
   "metadata": {},
   "outputs": [],
   "source": [
    "def format_data1D(nbins=10):\n",
    "    y = []\n",
    "    for i in range(len(test_set)):\n",
    "        if test_set.iloc[i]['Clean'] == 1:\n",
    "            y.append(0)\n",
    "        else:\n",
    "            y.append(1)\n",
    "    \n",
    "    data = []\n",
    "    for i, col in test_set.iterrows():\n",
    "        df = import_data(index = i)\n",
    "        df = cut_ends(df)\n",
    "        df, df_down, df_up = take_derivative(df)\n",
    "        if len(df_down) == 0:\n",
    "            X = np.zeros((nbins,nbins))\n",
    "        else:\n",
    "            X = unit_scale(df_down)\n",
    "        h, x_e = np.histogram(X[:,0],nbins)\n",
    "        h = np.reshape(h, (-1,1))\n",
    "        mm = make_pipeline(StandardScaler(), MinMaxScaler())\n",
    "\n",
    "        h = mm.fit_transform(h)\n",
    "\n",
    "        data.append(np.ndarray.flatten(h))\n",
    "        \n",
    "    return np.array(data), np.array(y)"
   ]
  },
  {
   "cell_type": "code",
   "execution_count": 7,
   "id": "94b9beea",
   "metadata": {},
   "outputs": [],
   "source": [
    "data, y = format_data1D()"
   ]
  },
  {
   "cell_type": "code",
   "execution_count": 136,
   "id": "54ab4001",
   "metadata": {},
   "outputs": [
    {
     "name": "stdout",
     "output_type": "stream",
     "text": [
      "params:  {'C': 100, 'kernel': 'linear'}\n"
     ]
    }
   ],
   "source": [
    "### Support Vector Machine\n",
    "params = [{'kernel':['linear', 'rbf', 'poly'], 'C':[0.1, 1, 10, 100]}]\n",
    "clf_pipe = SVC()\n",
    "gs_clf = GridSearchCV(clf_pipe, param_grid=params, scoring='accuracy', cv=5)\n",
    "gs_clf.fit(data, y)\n",
    "print(\"params: \", gs_clf.best_params_)"
   ]
  },
  {
   "cell_type": "code",
   "execution_count": 137,
   "id": "91afa4ef",
   "metadata": {},
   "outputs": [
    {
     "name": "stdout",
     "output_type": "stream",
     "text": [
      "accuracy score:  0.6694214876033058\n"
     ]
    }
   ],
   "source": [
    "clf = SVC(kernel='linear', C=100)\n",
    "y_pred = cross_val_predict(clf, data, y, cv=5)\n",
    "print(\"accuracy score: \", len(np.where(y_pred - y ==0)[0])/len(y))"
   ]
  },
  {
   "cell_type": "code",
   "execution_count": 138,
   "id": "99336234",
   "metadata": {},
   "outputs": [
    {
     "name": "stdout",
     "output_type": "stream",
     "text": [
      "params:  {'n_neighbors': 7}\n"
     ]
    }
   ],
   "source": [
    "### KNN\n",
    "params = [{'n_neighbors':[3,4,5,6,7,8]}]\n",
    "knn_pipe = KNeighborsClassifier() \n",
    "gs_knn = GridSearchCV(knn_pipe, param_grid=params, scoring='accuracy', cv=5)\n",
    "gs_knn.fit(data, y)\n",
    "print(\"params: \", gs_knn.best_params_)"
   ]
  },
  {
   "cell_type": "code",
   "execution_count": 139,
   "id": "ccf7741e",
   "metadata": {},
   "outputs": [
    {
     "name": "stdout",
     "output_type": "stream",
     "text": [
      "accuracy score:  0.6528925619834711\n"
     ]
    }
   ],
   "source": [
    "knn = KNeighborsClassifier(n_neighbors=7) \n",
    "y_pred = cross_val_predict(knn, data, y, cv=5)\n",
    "print(\"accuracy score: \", len(np.where(y_pred - y ==0)[0])/len(y))"
   ]
  },
  {
   "cell_type": "code",
   "execution_count": 8,
   "id": "18a126e8",
   "metadata": {},
   "outputs": [
    {
     "name": "stdout",
     "output_type": "stream",
     "text": [
      "params:  {'n_estimators': 10, 'random_state': 0}\n"
     ]
    }
   ],
   "source": [
    "### AdaBoost\n",
    "params = [{'n_estimators':[10,25,50,100,250], 'random_state': [0,1,2,3,4,5,6,7,8]}]\n",
    "ada_pipe = AdaBoostClassifier() \n",
    "gs_ada = GridSearchCV(ada_pipe, param_grid=params, scoring='accuracy', cv=5)\n",
    "gs_ada.fit(data, y)\n",
    "print(\"params: \", gs_ada.best_params_)"
   ]
  },
  {
   "cell_type": "code",
   "execution_count": 9,
   "id": "fee4d0f4",
   "metadata": {},
   "outputs": [
    {
     "name": "stdout",
     "output_type": "stream",
     "text": [
      "accuracy score:  0.6611570247933884\n"
     ]
    }
   ],
   "source": [
    "ada = AdaBoostClassifier(n_estimators=10, random_state=0)\n",
    "y_pred = cross_val_predict(ada, data, y, cv=5)\n",
    "print(\"accuracy score: \", len(np.where(y_pred - y ==0)[0])/len(y))"
   ]
  },
  {
   "cell_type": "code",
   "execution_count": 10,
   "id": "5395a983",
   "metadata": {},
   "outputs": [
    {
     "name": "stdout",
     "output_type": "stream",
     "text": [
      "params:  {'kernel': Matern(length_scale=0.1, nu=1.5), 'random_state': 0}\n"
     ]
    }
   ],
   "source": [
    "### Gaussian Process\n",
    "params = [{'kernel': [RBF(0.1), RBF(1), RBF(10), \n",
    "                      RationalQuadratic(alpha=1), RationalQuadratic(alpha=10), RationalQuadratic(alpha=100), \n",
    "                     Matern(length_scale=0.1, nu=1.5), Matern(length_scale=1, nu=1.5), Matern(length_scale=10, nu=1.5),\n",
    "                     Matern(length_scale=0.1, nu=2.5), Matern(length_scale=1, nu=2.5), Matern(length_scale=10, nu=2.5)], \n",
    "          'random_state': [0,1,2,3,4,5,6,7,8]}]\n",
    "gp_pipe = GaussianProcessClassifier() \n",
    "gs_gp = GridSearchCV(gp_pipe, param_grid=params, scoring='accuracy', cv=5)\n",
    "gs_gp.fit(data, y)\n",
    "print(\"params: \", gs_gp.best_params_)"
   ]
  },
  {
   "cell_type": "code",
   "execution_count": 11,
   "id": "8b5cf4c8",
   "metadata": {},
   "outputs": [
    {
     "name": "stdout",
     "output_type": "stream",
     "text": [
      "accuracy score:  0.6363636363636364\n"
     ]
    }
   ],
   "source": [
    "gp = GaussianProcessClassifier(Matern(length_scale=0.1, nu=1.5), random_state=0)\n",
    "y_pred = cross_val_predict(gp, data, y, cv=5)\n",
    "print(\"accuracy score: \", len(np.where(y_pred - y ==0)[0])/len(y))"
   ]
  },
  {
   "cell_type": "code",
   "execution_count": 113,
   "id": "2ca13e07",
   "metadata": {},
   "outputs": [
    {
     "name": "stdout",
     "output_type": "stream",
     "text": [
      "params:  {'alpha': 1, 'random_state': 0}\n"
     ]
    }
   ],
   "source": [
    "### MLP NN\n",
    "params = [{'alpha': [0.001, 0.01, 0.1, 1], 'random_state': [0,1,2,3,4,5,6,7,8]}]\n",
    "mlp_pipe = MLPClassifier()\n",
    "gs_mlp = GridSearchCV(mlp_pipe, param_grid=params, scoring='accuracy', cv=5)\n",
    "gs_mlp.fit(data, y)\n",
    "print(\"params: \", gs_mlp.best_params_)"
   ]
  },
  {
   "cell_type": "code",
   "execution_count": 112,
   "id": "f9904a48",
   "metadata": {},
   "outputs": [
    {
     "name": "stdout",
     "output_type": "stream",
     "text": [
      "accuracy score:  0.6446280991735537\n"
     ]
    }
   ],
   "source": [
    "mlp = MLPClassifier(alpha=1, random_state=0)\n",
    "y_pred = cross_val_predict(mlp, data, y, cv=5)\n",
    "print(\"accuracy score: \", len(np.where(y_pred - y ==0)[0])/len(y))"
   ]
  },
  {
   "cell_type": "markdown",
   "id": "960cf2e4",
   "metadata": {},
   "source": [
    "## Classification on $\\hat{X}=\\left[x(t), \\frac{dx}{dt}\\right]$ Dataset\n",
    "\n",
    "Now we look at binary classification on the phase portrait dataset. The best classifier is MLP NN with alpha=0.001 with a classification accuracy of 78.5%. Even using cross validation to generate the final model precictons, some classifiers are sensitive to random state. This sensitivity is typically on the order of +/- 3%. "
   ]
  },
  {
   "cell_type": "code",
   "execution_count": 17,
   "id": "f42ebf59",
   "metadata": {},
   "outputs": [],
   "source": [
    "def format_data(nbins=10):\n",
    "    \n",
    "    # pull obstruction labels from metadata table\n",
    "    y = []\n",
    "    for i in range(len(test_set)):\n",
    "        if test_set.iloc[i]['Clean'] == 1:\n",
    "            y.append(0) # 0 not obstructed\n",
    "        else:\n",
    "            y.append(1) # 1 if obstructed\n",
    "    \n",
    "    # format features X\n",
    "    data = []\n",
    "    for i, col in test_set.iterrows():\n",
    "        df = import_data(index = i)\n",
    "        df = cut_ends(df) # clip data to only include 1-99th value percentile data\n",
    "        df, df_down, df_up = take_derivative(df)\n",
    "        if len(df_down) == 0:\n",
    "            X = np.zeros((nbins,nbins))\n",
    "        else:\n",
    "            X = unit_scale(df_down) # unit scale phase portrait features\n",
    "        h, x_e, y_e = np.histogram2d(X[:,0], X[:,1],nbins) # bin phase portrait\n",
    "        mm = make_pipeline(StandardScaler(), MinMaxScaler()) \n",
    "        h = mm.fit_transform(h) # standardize and unit scale histogram\n",
    "\n",
    "        data.append(np.ndarray.flatten(h))\n",
    "        \n",
    "    return np.array(data), np.array(y)"
   ]
  },
  {
   "cell_type": "code",
   "execution_count": 18,
   "id": "7ef99f35",
   "metadata": {},
   "outputs": [],
   "source": [
    "data, y = format_data()"
   ]
  },
  {
   "cell_type": "code",
   "execution_count": 117,
   "id": "5206a0ef",
   "metadata": {},
   "outputs": [
    {
     "name": "stdout",
     "output_type": "stream",
     "text": [
      "params:  {'C': 1, 'kernel': 'rbf'}\n"
     ]
    }
   ],
   "source": [
    "### Support Vector Machine\n",
    "params = [{'kernel':['linear', 'rbf', 'poly'], 'C':[0.1, 1, 10, 100]}]\n",
    "clf_pipe = SVC()\n",
    "gs_clf = GridSearchCV(clf_pipe, param_grid=params, scoring='accuracy', cv=5)\n",
    "gs_clf.fit(data, y)\n",
    "print(\"params: \", gs_clf.best_params_)"
   ]
  },
  {
   "cell_type": "code",
   "execution_count": 118,
   "id": "92f9f9b5",
   "metadata": {},
   "outputs": [
    {
     "name": "stdout",
     "output_type": "stream",
     "text": [
      "accuracy score:  0.7603305785123967\n"
     ]
    }
   ],
   "source": [
    "clf = SVC(kernel='rbf', C=1)\n",
    "y_pred = cross_val_predict(clf, data, y, cv=5)\n",
    "print(\"accuracy score: \", len(np.where(y_pred - y ==0)[0])/len(y))"
   ]
  },
  {
   "cell_type": "code",
   "execution_count": 119,
   "id": "df3056be",
   "metadata": {},
   "outputs": [
    {
     "name": "stdout",
     "output_type": "stream",
     "text": [
      "params:  {'n_neighbors': 7}\n"
     ]
    }
   ],
   "source": [
    "### KNN\n",
    "params = [{'n_neighbors':[3,4,5,6,7,8]}]\n",
    "knn_pipe = KNeighborsClassifier() \n",
    "gs_knn = GridSearchCV(knn_pipe, param_grid=params, scoring='accuracy', cv=5)\n",
    "gs_knn.fit(data, y)\n",
    "print(\"params: \", gs_knn.best_params_)"
   ]
  },
  {
   "cell_type": "code",
   "execution_count": 120,
   "id": "e734175d",
   "metadata": {},
   "outputs": [
    {
     "name": "stdout",
     "output_type": "stream",
     "text": [
      "accuracy score:  0.768595041322314\n"
     ]
    }
   ],
   "source": [
    "knn = KNeighborsClassifier(n_neighbors=7) \n",
    "y_pred = cross_val_predict(knn, data, y, cv=5)\n",
    "print(\"accuracy score: \", len(np.where(y_pred - y ==0)[0])/len(y))"
   ]
  },
  {
   "cell_type": "code",
   "execution_count": 19,
   "id": "9ab3e354",
   "metadata": {},
   "outputs": [
    {
     "name": "stdout",
     "output_type": "stream",
     "text": [
      "params:  {'n_estimators': 10, 'random_state': 0}\n"
     ]
    }
   ],
   "source": [
    "### AdaBoost\n",
    "params = [{'n_estimators':[10,25,50,100,250], 'random_state': [0,1,2,3,4,5,6,7,8]}]\n",
    "ada_pipe = AdaBoostClassifier() \n",
    "gs_ada = GridSearchCV(ada_pipe, param_grid=params, scoring='accuracy', cv=5)\n",
    "gs_ada.fit(data, y)\n",
    "print(\"params: \", gs_ada.best_params_)"
   ]
  },
  {
   "cell_type": "code",
   "execution_count": 20,
   "id": "7038c851",
   "metadata": {},
   "outputs": [
    {
     "name": "stdout",
     "output_type": "stream",
     "text": [
      "accuracy score:  0.7520661157024794\n"
     ]
    }
   ],
   "source": [
    "ada = AdaBoostClassifier(n_estimators=10, random_state=0)\n",
    "y_pred = cross_val_predict(ada, data, y, cv=5)\n",
    "print(\"accuracy score: \", len(np.where(y_pred - y ==0)[0])/len(y))"
   ]
  },
  {
   "cell_type": "code",
   "execution_count": 21,
   "id": "114ffc5b",
   "metadata": {},
   "outputs": [
    {
     "name": "stdout",
     "output_type": "stream",
     "text": [
      "params:  {'kernel': RBF(length_scale=1), 'random_state': 0}\n"
     ]
    }
   ],
   "source": [
    "### Gaussian Process\n",
    "params = [{'kernel': [RBF(0.1), RBF(1), RBF(10), \n",
    "                      RationalQuadratic(alpha=1), RationalQuadratic(alpha=10), RationalQuadratic(alpha=100), \n",
    "                     Matern(length_scale=0.1, nu=1.5), Matern(length_scale=1, nu=1.5), Matern(length_scale=10, nu=1.5),\n",
    "                     Matern(length_scale=0.1, nu=2.5), Matern(length_scale=1, nu=2.5), Matern(length_scale=10, nu=2.5)], \n",
    "          'random_state': [0,1,2,3,4,5,6,7,8]}]\n",
    "gp_pipe = GaussianProcessClassifier() \n",
    "gs_gp = GridSearchCV(gp_pipe, param_grid=params, scoring='accuracy', cv=5)\n",
    "gs_gp.fit(data, y)\n",
    "print(\"params: \", gs_gp.best_params_)"
   ]
  },
  {
   "cell_type": "code",
   "execution_count": 22,
   "id": "f824d915",
   "metadata": {},
   "outputs": [
    {
     "name": "stdout",
     "output_type": "stream",
     "text": [
      "accuracy score:  0.7603305785123967\n"
     ]
    }
   ],
   "source": [
    "gp = GaussianProcessClassifier(RBF(1), random_state=0)\n",
    "y_pred = cross_val_predict(gp, data, y, cv=5)\n",
    "print(\"accuracy score: \", len(np.where(y_pred - y ==0)[0])/len(y))"
   ]
  },
  {
   "cell_type": "code",
   "execution_count": 126,
   "id": "442d8d4e",
   "metadata": {},
   "outputs": [
    {
     "name": "stdout",
     "output_type": "stream",
     "text": [
      "params:  {'alpha': 0.001, 'random_state': 4}\n"
     ]
    }
   ],
   "source": [
    "### MLP NN\n",
    "params = [{'alpha': [0.001, 0.01, 0.1, 1], 'random_state': [0,1,2,3,4,5,6,7,8]}]\n",
    "mlp_pipe = MLPClassifier()\n",
    "gs_mlp = GridSearchCV(mlp_pipe, param_grid=params, scoring='accuracy', cv=5)\n",
    "gs_mlp.fit(data, y)\n",
    "print(\"params: \", gs_mlp.best_params_)"
   ]
  },
  {
   "cell_type": "code",
   "execution_count": 127,
   "id": "529e3d5a",
   "metadata": {},
   "outputs": [
    {
     "name": "stdout",
     "output_type": "stream",
     "text": [
      "accuracy score:  0.7851239669421488\n"
     ]
    }
   ],
   "source": [
    "mlp = MLPClassifier(alpha=0.001, random_state=4)\n",
    "y_pred = cross_val_predict(mlp, data, y, cv=5)\n",
    "print(\"accuracy score: \", len(np.where(y_pred - y ==0)[0])/len(y))"
   ]
  },
  {
   "cell_type": "code",
   "execution_count": 130,
   "id": "201f5ee4",
   "metadata": {},
   "outputs": [
    {
     "data": {
      "image/png": "[encoded data removed]",
      "text/plain": [
       "<Figure size 600x400 with 1 Axes>"
      ]
     },
     "metadata": {},
     "output_type": "display_data"
    }
   ],
   "source": [
    "fig, ax = plt.subplots(figsize=(6,4))\n",
    "ConfusionMatrixDisplay.from_predictions(y,y_pred, cmap='Blues', ax=ax, \n",
    "                                        colorbar=False, display_labels=[\"Valid\", \"Obstructed\"])\n",
    "plt.tight_layout()"
   ]
  }
 ],
 "metadata": {
  "kernelspec": {
   "display_name": "Python 3 (ipykernel)",
   "language": "python",
   "name": "python3"
  },
  "language_info": {
   "codemirror_mode": {
    "name": "ipython",
    "version": 3
   },
   "file_extension": ".py",
   "mimetype": "text/x-python",
   "name": "python",
   "nbconvert_exporter": "python",
   "pygments_lexer": "ipython3",
   "version": "3.10.6"
  }
 },
 "nbformat": 4,
 "nbformat_minor": 5
}
